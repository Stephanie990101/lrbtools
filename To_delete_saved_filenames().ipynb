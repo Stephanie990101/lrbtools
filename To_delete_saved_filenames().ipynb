{
 "cells": [
  {
   "cell_type": "code",
   "execution_count": null,
   "metadata": {},
   "outputs": [],
   "source": [
    "#To solve the problem that some files are failed to be downloaded from Earthdata Search using text and wget in windows.\n",
    "#download_path is the path of downloaded successfully.\n",
    "#txt_old is the text that saved the whole downloading urls.\n",
    "#txt_new is the path of new text that saved the urls which downloaded failed.\n",
    "\n",
    "#An using example\n",
    "#delete_saved_filenames('E:/data/data-L2','E:/wget/old.txt','E:/wget/new.txt')\n",
    "\n",
    "def delete_saved_filenames(download_path,txt_old,txt_new):\n",
    "    import os\n",
    "    import numpy as np\n",
    "    files = os.listdir(download_path)\n",
    "    print(files)\n",
    "    text = np.loadtxt(txt_old,delimiter='\\n',encoding='utf-8',dtype=bytes).astype(str)\n",
    "    limit = len(text)\n",
    "    new = np.empty(shape=limit, dtype='object')\n",
    "    for i in range(limit):\n",
    "        temp=text[i]\n",
    "        print(temp)\n",
    "        dd=temp[78:123]\n",
    "        print(dd)\n",
    "        new[i]=str(dd)\n",
    "    for file in files:\n",
    "        for i in range(limit):\n",
    "            if file==new[i]:\n",
    "                text[i]='aaa'\n",
    "    b=['aaa']\n",
    "    resulttxt=np.setdiff1d(text,b)\n",
    "    np.savetxt(txt_new,resulttxt,delimiter='\\n',fmt='%s')\n",
    "    print('%s have been created!'%txt_new)"
   ]
  }
 ],
 "metadata": {
  "kernelspec": {
   "display_name": "Python 3",
   "language": "python",
   "name": "python3"
  },
  "language_info": {
   "codemirror_mode": {
    "name": "ipython",
    "version": 3
   },
   "file_extension": ".py",
   "mimetype": "text/x-python",
   "name": "python",
   "nbconvert_exporter": "python",
   "pygments_lexer": "ipython3",
   "version": "3.8.3"
  },
  "toc": {
   "base_numbering": 1,
   "nav_menu": {},
   "number_sections": true,
   "sideBar": true,
   "skip_h1_title": false,
   "title_cell": "Table of Contents",
   "title_sidebar": "Contents",
   "toc_cell": false,
   "toc_position": {},
   "toc_section_display": true,
   "toc_window_display": false
  }
 },
 "nbformat": 4,
 "nbformat_minor": 4
}
